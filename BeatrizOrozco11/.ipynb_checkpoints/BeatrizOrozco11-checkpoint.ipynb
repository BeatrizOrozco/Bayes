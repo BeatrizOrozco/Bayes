{
 "cells": [
  {
   "cell_type": "code",
   "execution_count": 1,
   "metadata": {},
   "outputs": [],
   "source": [
    "import numpy as np\n",
    "import matplotlib as mpl\n",
    "import matplotlib.pyplot as plt\n",
    "import pandas as pd"
   ]
  },
  {
   "cell_type": "code",
   "execution_count": 2,
   "metadata": {},
   "outputs": [],
   "source": [
    "data=pd.read_csv(\"fitting.txt\",sep=\" \")\n",
    "x_obs=np.array(data[\"x\"])\n",
    "y_obs=np.array(data[\"y\"])\n",
    "sigma=np.array(data[\"sigma_y\"])"
   ]
  },
  {
   "cell_type": "code",
   "execution_count": 3,
   "metadata": {},
   "outputs": [
    {
     "data": {
      "text/plain": [
       "<matplotlib.collections.PathCollection at 0x237b425b518>"
      ]
     },
     "execution_count": 3,
     "metadata": {},
     "output_type": "execute_result"
    },
    {
     "data": {
      "image/png": "[encoded data removed]",
      "text/plain": [
       "<Figure size 432x288 with 1 Axes>"
      ]
     },
     "metadata": {},
     "output_type": "display_data"
    }
   ],
   "source": [
    "plt.scatter(x_obs,y_obs)"
   ]
  },
  {
   "cell_type": "code",
   "execution_count": 4,
   "metadata": {},
   "outputs": [],
   "source": [
    "def f(x,param):\n",
    "    p=len(param)\n",
    "    y=x.copy()\n",
    "    y[:]=0\n",
    "    for i in range(p):\n",
    "        y+=param[i]*(x**i)\n",
    "    return y"
   ]
  },
  {
   "cell_type": "code",
   "execution_count": 5,
   "metadata": {},
   "outputs": [],
   "source": [
    "def loglikelihood(y_obs, x_obs, sigma, param):\n",
    "    d_=[]\n",
    "    for i in f(x_obs,param):\n",
    "        d = y_obs -  i\n",
    "        d = d/sigma\n",
    "        d = -0.5 * np.sum(d**2)\n",
    "        d_.append(d)\n",
    "    return d_"
   ]
  },
  {
   "cell_type": "code",
   "execution_count": 6,
   "metadata": {},
   "outputs": [
    {
     "data": {
      "text/plain": [
       "20"
      ]
     },
     "execution_count": 6,
     "metadata": {},
     "output_type": "execute_result"
    }
   ],
   "source": [
    "beta1=np.random.uniform(-1,1,size=20)\n",
    "loglikelihood(y_obs, x_obs, sigma, beta1)\n",
    "len(loglikelihood(y_obs, x_obs, sigma, beta1))"
   ]
  },
  {
   "cell_type": "code",
   "execution_count": 7,
   "metadata": {},
   "outputs": [],
   "source": [
    "N=100000\n",
    "def integral_monte_carlo(y_obs, x_obs, sigma,N):\n",
    "    p_=[]\n",
    "    for i in range(N):\n",
    "        beta=np.random.uniform(-1,1,size=20)\n",
    "        p=(1/(sigma*np.sqrt(2*np.pi)))*np.exp(loglikelihood(y_obs, x_obs, sigma, beta))*np.random.normal(size=(20))\n",
    "    return np.mean(p,axis=0)"
   ]
  },
  {
   "cell_type": "code",
   "execution_count": null,
   "metadata": {},
   "outputs": [],
   "source": [
    "b=integral_monte_carlo(y_obs, x_obs, sigma,N)"
   ]
  },
  {
   "cell_type": "code",
   "execution_count": null,
   "metadata": {},
   "outputs": [],
   "source": [
    "plt.plot(b)"
   ]
  },
  {
   "cell_type": "code",
   "execution_count": null,
   "metadata": {},
   "outputs": [],
   "source": []
  }
 ],
 "metadata": {
  "kernelspec": {
   "display_name": "Python 3",
   "language": "python",
   "name": "python3"
  },
  "language_info": {
   "codemirror_mode": {
    "name": "ipython",
    "version": 3
   },
   "file_extension": ".py",
   "mimetype": "text/x-python",
   "name": "python",
   "nbconvert_exporter": "python",
   "pygments_lexer": "ipython3",
   "version": "3.6.5"
  }
 },
 "nbformat": 4,
 "nbformat_minor": 2
}
